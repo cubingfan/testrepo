{
 "cells": [
  {
   "cell_type": "code",
   "execution_count": 113,
   "metadata": {},
   "outputs": [],
   "source": [
    "%matplotlib inline\n",
    "\n",
    "from collections import defaultdict\n",
    "import scipy\n",
    "import traceback\n",
    "import os\n",
    "import numpy as np\n",
    "import scipy\n",
    "import scipy.stats\n",
    "import scipy.io\n",
    "import matplotlib.pyplot as plt\n",
    "import sys\n",
    "import seaborn as sns; sns.set()  # for plot styling\n",
    "\n",
    "import sklearn.cluster\n",
    "from sklearn.decomposition import PCA,TruncatedSVD\n",
    "from sklearn.neighbors import NearestNeighbors\n",
    "from sklearn.preprocessing import StandardScaler\n",
    "from sklearn.cluster import KMeans\n",
    "from sklearn.manifold import TSNE\n",
    "\n",
    "\n",
    "#LOAD DATA\n",
    "# input_path = 'filtered_gene_bc_matrices/zv10_gtf89_cloche_gfp/'\n",
    "\n",
    "# if os.path.isfile(input_path + '/matrix.npz'):\n",
    "#     E = scipy.sparse.load_npz(input_path + '/matrix.npz')\n",
    "# else:\n",
    "#     E = scipy.io.mmread(input_path + '/matrix.mtx').T.tocsc()\n",
    "#     scipy.sparse.save_npz(input_path + '/matrix.npz', E, compressed=True)\n",
    "\n",
    "# print(E.shape)\n",
    "\n",
    "# # Convert to numpy array and standardize\n",
    "# X = E.toarray()\n",
    "# X = StandardScaler().fit_transform(X)\n"
   ]
  },
  {
   "cell_type": "code",
   "execution_count": 114,
   "metadata": {},
   "outputs": [],
   "source": [
    "def genPCA(E,n,k):\n",
    "    X = E.toarray()\n",
    "    X = StandardScaler().fit_transform(X)\n",
    "    \n",
    "    pca = PCA(n_components=n)\n",
    "    pca.fit(X)\n",
    "    X_pca = pca.transform(X)\n",
    "    print(\"original shape:   \", X.shape)\n",
    "    print(\"transformed shape:\", X_pca.shape)\n",
    "    kmeans = KMeans(n_clusters=k,init='k-means++',n_init=50, verbose=0)\n",
    "    kmeans.fit(X_pca)\n",
    "    y_kmeans = kmeans.predict(X_pca)\n",
    "    plt.scatter(X_pca[:, 0], X_pca[:, 1], marker='.',alpha=0.8,c=y_kmeans, cmap='viridis')\n",
    "    name = 'PCA'+str(n)+'Kmeans'+str(k)\n",
    "    print(name)\n",
    "    plt.title(name)\n",
    "    plt.savefig('GeneratedPCA/'+name)\n",
    "    plt.show()\n",
    "    plt.close()\n",
    "    return [X_pca,pca.components_]"
   ]
  },
  {
   "cell_type": "code",
   "execution_count": 115,
   "metadata": {},
   "outputs": [],
   "source": [
    "def contributor(pca_comp, comp, cont):\n",
    "    p1 = np.fabs(pca_comp[comp])\n",
    "    cont = cont*-1\n",
    "    ind = np.argpartition(p1,cont)[cont:]\n",
    "    return ind"
   ]
  },
  {
   "cell_type": "code",
   "execution_count": 116,
   "metadata": {
    "scrolled": false
   },
   "outputs": [],
   "source": [
    "# genPCA(20,5)\n",
    "# genPCA(30,5)\n",
    "# genPCA(40,5)\n",
    "# genPCA(50,5)\n",
    "# genPCA(60,5)\n"
   ]
  },
  {
   "cell_type": "code",
   "execution_count": 117,
   "metadata": {},
   "outputs": [],
   "source": [
    "#TSNE\n",
    "# n = 20\n",
    "# k = 5\n",
    "# pca = PCA(n_components=n)\n",
    "# pca.fit(X)\n",
    "# X_pca = pca.transform(X)\n",
    "# print(\"original shape:   \", X.shape)\n",
    "# print(\"transformed shape:\", X_pca.shape)\n",
    "# kmeans = KMeans(n_clusters=k)\n",
    "# kmeans.fit(X_pca)\n",
    "# y_kmeans = kmeans.predict(X_pca)"
   ]
  },
  {
   "cell_type": "code",
   "execution_count": 118,
   "metadata": {},
   "outputs": [],
   "source": [
    "def genTSNE(X,k,p):\n",
    "    kmeans = KMeans(n_clusters=k,init='k-means++',n_init=50, verbose=0)\n",
    "    kmeans.fit(X)\n",
    "    y_kmeans = kmeans.predict(X)\n",
    "    tsne = TSNE(n_components=2, verbose=1, perplexity=p, n_iter=300)\n",
    "    tsne_results = tsne.fit_transform(X)\n",
    "    plt.scatter(tsne_results[:,0], tsne_results[:,1], marker='.',alpha=0.6,c=y_kmeans, cmap='viridis')\n",
    "    name = 'PCA'+str(X.shape)+'Kmeans'+str(k)+'TSNE'+str(p)\n",
    "    print(name)\n",
    "    plt.title(name)\n",
    "    plt.show()\n",
    "    #plt.savefig('GeneratedTSNE/'+name)\n",
    "    plt.close()\n",
    "    return tsne_results\n"
   ]
  },
  {
   "cell_type": "code",
   "execution_count": 119,
   "metadata": {},
   "outputs": [],
   "source": [
    "def genTSNECen(X,k,p):\n",
    "    kmeans = KMeans(n_clusters=k)\n",
    "    kmeans.fit(X)\n",
    "    y_kmeans = kmeans.predict(X)\n",
    "    #print(y_kmeans.shape)\n",
    "    #print(X.shape)\n",
    "    centers = kmeans.cluster_centers_\n",
    "    #print(centers.shape)\n",
    "    \n",
    "    X1 = np.concatenate((X,centers), axis=0)\n",
    "    colors = np.full(k,k)\n",
    "    y_kmeansCen = np.concatenate((y_kmeans,colors), axis=0)\n",
    "    \n",
    "    tsne = TSNE(n_components=2, verbose=1, perplexity=p, n_iter=300)\n",
    "    tsne_results = tsne.fit_transform(X1)\n",
    "    #print(y_kmeansCen)\n",
    "    plt.scatter(tsne_results[:,0], tsne_results[:,1], marker='.',alpha=0.6,c=y_kmeansCen, cmap='viridis')\n",
    "    plt.scatter(tsne_results[-k:,0], tsne_results[-k:,1], s=250, marker='X',alpha=1,c = 'black')\n",
    "    name = 'PCA'+str(X.shape)+'Kmeans'+str(k)+'TSNE'+str(p)\n",
    "    print(name)\n",
    "    plt.title(name)\n",
    "    plt.show()\n",
    "    #plt.savefig('GeneratedTSNE/'+name)\n",
    "    plt.close()\n",
    "    return tsne_results"
   ]
  },
  {
   "cell_type": "code",
   "execution_count": 120,
   "metadata": {},
   "outputs": [],
   "source": [
    "#genTSNE(5)"
   ]
  },
  {
   "cell_type": "code",
   "execution_count": 121,
   "metadata": {},
   "outputs": [],
   "source": [
    "# for i in range(75,100):\n",
    "#     genTSNE(i)\n"
   ]
  },
  {
   "cell_type": "code",
   "execution_count": 122,
   "metadata": {},
   "outputs": [],
   "source": [
    "#LOAD DATA\n",
    "# input_path = 'filtered_gene_bc_matrices/zv10_gtf89_cloche_gfp/'\n",
    "\n",
    "# if os.path.isfile(input_path + '/matrix.npz'):\n",
    "#     E = scipy.sparse.load_npz(input_path + '/matrix.npz')\n",
    "# else:\n",
    "#     E = scipy.io.mmread(input_path + '/matrix.mtx').T.tocsc()\n",
    "#     scipy.sparse.save_npz(input_path + '/matrix.npz', E, compressed=True)\n",
    "\n",
    "# print(E.shape)\n",
    "\n",
    "# # Convert to numpy array and standardize\n",
    "# X = E.toarray()\n",
    "# X = StandardScaler().fit_transform(X)\n",
    "\n",
    "# pca = PCA(n_components=10)\n",
    "# pca.fit(X)\n",
    "# X_pca = pca.transform(X)"
   ]
  },
  {
   "cell_type": "code",
   "execution_count": 123,
   "metadata": {},
   "outputs": [],
   "source": [
    "#genTSNE(X_pca,3,50)"
   ]
  },
  {
   "cell_type": "code",
   "execution_count": 124,
   "metadata": {
    "scrolled": true
   },
   "outputs": [],
   "source": [
    "#genTSNECen(X_pca,3,40)"
   ]
  },
  {
   "cell_type": "code",
   "execution_count": 125,
   "metadata": {},
   "outputs": [],
   "source": [
    "# l = [1,3,4,5,6,7,8,10]\n",
    "# l[-3:]"
   ]
  },
  {
   "cell_type": "code",
   "execution_count": null,
   "metadata": {},
   "outputs": [],
   "source": []
  }
 ],
 "metadata": {
  "kernelspec": {
   "display_name": "Python 3",
   "language": "python",
   "name": "python3"
  },
  "language_info": {
   "codemirror_mode": {
    "name": "ipython",
    "version": 3
   },
   "file_extension": ".py",
   "mimetype": "text/x-python",
   "name": "python",
   "nbconvert_exporter": "python",
   "pygments_lexer": "ipython3",
   "version": "3.6.4"
  }
 },
 "nbformat": 4,
 "nbformat_minor": 2
}
