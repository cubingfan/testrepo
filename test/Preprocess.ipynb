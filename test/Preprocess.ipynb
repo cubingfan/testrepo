{
 "cells": [
  {
   "cell_type": "code",
   "execution_count": 1,
   "metadata": {},
   "outputs": [],
   "source": [
    "# HELPER FUNCTIONS\n",
    "\n",
    "def load_genes(filename, delimiter='\\t', column=0, skip_rows=0):\n",
    "    gene_list = []\n",
    "    gene_dict = {}\n",
    "\n",
    "    with open(filename) as f:\n",
    "        for iL in range(skip_rows):\n",
    "            f.readline()\n",
    "        for l in f:\n",
    "            gene = l.strip('\\n').split(delimiter)[column]\n",
    "            gene = gene.replace(\"/\", \"\\/\")\n",
    "            if gene in gene_dict:\n",
    "                gene_dict[gene] += 1\n",
    "                gene_list.append(gene + '__' + str(gene_dict[gene]))\n",
    "                if gene_dict[gene] == 2:\n",
    "                    i = gene_list.index(gene)\n",
    "                    gene_list[i] = gene + '__1'\n",
    "            else: \n",
    "                gene_dict[gene] = 1\n",
    "                gene_list.append(gene)\n",
    "    return gene_list\n",
    "\n",
    "def load_text(file_data,delim='\\t'):\n",
    "    X_data = []\n",
    "    X_row = []\n",
    "    X_col = []\n",
    "\n",
    "    start_column = -1\n",
    "    start_row = -1\n",
    "    for row_ix, dat in enumerate(file_data):\n",
    "        dat = dat.strip('\\n').split(delim)\n",
    "\n",
    "        if start_row == -1:\n",
    "            current_col = 0\n",
    "            found_float = False\n",
    "            while not found_float and current_col < len(dat):\n",
    "                try: \n",
    "                    tmp = float(dat[current_col])\n",
    "                    \n",
    "                    try:\n",
    "                        rowdat = np.array(map(float, dat[current_col:]))\n",
    "                        ncol = len(rowdat)\n",
    "                        col_ix = np.nonzero(rowdat)[0]\n",
    "\n",
    "                        found_float = True\n",
    "                        start_row = row_ix\n",
    "                        start_column = current_col\n",
    "\n",
    "                        X_col.extend(col_ix)\n",
    "                        X_row.extend([row_ix - start_row] * len(col_ix))\n",
    "                        X_data.extend(rowdat[col_ix])\n",
    "\n",
    "                    except:\n",
    "                        current_col += 1\n",
    "\n",
    "                except:\n",
    "                    current_col += 1\n",
    "        else:\n",
    "            try:\n",
    "                rowdat = np.array(map(float, dat[start_column:]))\n",
    "                if len(rowdat) != ncol:\n",
    "                    return 'ERROR: Rows have different numbers of numeric columns.'\n",
    "                col_ix = np.nonzero(rowdat)[0]\n",
    "                X_col.extend(col_ix)\n",
    "                X_row.extend([row_ix - start_row] * len(col_ix))\n",
    "                X_data.extend(rowdat[col_ix])\n",
    "            except:\n",
    "                return 'ERROR: Rows have different numbers of numeric columns.'\n",
    "\n",
    "    if start_row == -1:\n",
    "        return 'ERROR: no numeric values found'\n",
    "\n",
    "    nrow = row_ix - start_row + 1\n",
    "    E = scipy.sparse.coo_matrix((X_data, (X_row, X_col)), dtype=float, shape=(nrow, ncol)).tocsc()\n",
    "    \n",
    "    return E\n",
    "\n",
    "def file_opener(filename):\n",
    "    fileData = open(filename)\n",
    "    if filename.endswith('.gz'):\n",
    "        import gzip\n",
    "        outData = gzip.GzipFile(fileobj = fileData, mode = 'rb')\n",
    "    elif filename.endswith('.zip'):\n",
    "        import zipfile\n",
    "        zipData = zipfile.ZipFile(fileData, 'r')\n",
    "        fnClean = filename.strip('/').split('/')[-1][:-4]\n",
    "        outData = zipData.open(fnClean)\n",
    "    else:\n",
    "        outData = fileData\n",
    "    return outData\n"
   ]
  },
  {
   "cell_type": "code",
   "execution_count": 2,
   "metadata": {},
   "outputs": [],
   "source": [
    "%matplotlib inline\n",
    "\n",
    "from collections import defaultdict\n",
    "from collections import defaultdict\n",
    "import scipy\n",
    "import traceback\n",
    "import os\n",
    "import numpy as np\n",
    "import scipy\n",
    "import scipy.stats\n",
    "import scipy.io\n",
    "import matplotlib.pyplot as plt\n",
    "import sys\n",
    "import seaborn as sns; sns.set()  # for plot styling\n",
    "\n",
    "import sklearn.cluster\n",
    "from sklearn.decomposition import PCA,TruncatedSVD\n",
    "from sklearn.neighbors import NearestNeighbors\n",
    "from sklearn.preprocessing import StandardScaler\n",
    "from sklearn.cluster import KMeans\n",
    "\n",
    "#LOAD DATA\n",
    "\n",
    "input_path = 'filtered_gene_bc_matrices/zv10_gtf89_cloche_gfp/'\n",
    "\n",
    "if os.path.isfile(input_path + '/matrix.npz'):\n",
    "    E = scipy.sparse.load_npz(input_path + '/matrix.npz')\n",
    "else:\n",
    "    E = scipy.io.mmread(input_path + '/matrix.mtx').T.tocsc()\n",
    "    scipy.sparse.save_npz(input_path + '/matrix.npz', E, compressed=True)\n",
    "\n",
    "    \n",
    "\n",
    "gene_list = np.array(load_genes(input_path + 'genes.tsv',column = 1))\n",
    "#print(counts_list.shape)\n",
    "#print('Matrix shape:'+str(E.shape))\n",
    "#print('Genelist size:'+str(len(gene_list)))\n"
   ]
  },
  {
   "cell_type": "code",
   "execution_count": 3,
   "metadata": {},
   "outputs": [],
   "source": [
    "plt.rcParams['font.family'] = 'sans-serif'\n",
    "plt.rcParams['font.sans-serif'] = 'Arial'\n",
    "plt.rc('font', size=14)\n",
    "plt.rcParams['pdf.fonttype'] = 42"
   ]
  },
  {
   "cell_type": "code",
   "execution_count": 152,
   "metadata": {},
   "outputs": [],
   "source": [
    "### THRESHOLDING ####\n",
    "def threshold(E,min_val,max_val):\n",
    "    print('CellCount min:'+str(min_val)+' max:'+str(max_val))\n",
    "    # plotting total counts pre-thresholding\n",
    "    total_counts = np.sum(E, axis=1).A[:,0]\n",
    "    tmpfilt = np.nonzero((total_counts <= max_val)&(total_counts >= min_val))[0]\n",
    "    print('Pre-filter: %i barcodes' %E.shape[0])\n",
    "    fig = plt.figure()\n",
    "    ax = fig.add_subplot(111)\n",
    "    ax.hist(total_counts, bins=np.logspace(0, 6, 100))\n",
    "    ax.set_xscale('log')\n",
    "    ax.set_xlabel('Transcripts per barcode')\n",
    "    ax.set_ylabel('Number of barcodes')\n",
    "\n",
    "    # applying filter\n",
    "    Efilt = E[tmpfilt,:]\n",
    "    print('Post-filter: %i barcodes' %Efilt.shape[0])\n",
    "    total_counts_filt = np.sum(Efilt, axis=1).A[:,0]\n",
    "    \n",
    "    # plotting post filter\n",
    "    fig = plt.figure()\n",
    "    ax = fig.add_subplot(111)\n",
    "    ax.hist(total_counts_filt, bins=np.logspace(0, 6, 100))\n",
    "    ax.set_xscale('log')\n",
    "    ax.set_xlabel('Transcripts per barcode')\n",
    "    ax.set_ylabel('Number of barcodes')\n",
    "\n",
    "    return [Efilt,tmpfilt]\n",
    "\n",
    "    \n",
    "    \n",
    "    "
   ]
  },
  {
   "cell_type": "code",
   "execution_count": 23,
   "metadata": {},
   "outputs": [],
   "source": [
    "def GeneCount(E,min_val,max_val):\n",
    "    print('GeneCount min:'+str(min_val)+' max:'+str(max_val))\n",
    "    # plotting total counts pre-thresholding\n",
    "    total_counts = np.sum(E, axis=0).A[0,:]\n",
    "    tmpfilt = np.nonzero((total_counts <= max_val)&(total_counts >= min_val))[0]\n",
    "    print('Pre-filter: %i barcodes' %E.shape[1])\n",
    "    fig = plt.figure()\n",
    "    ax = fig.add_subplot(111)\n",
    "    ax.hist(total_counts, bins=np.logspace(0, 6, 50))\n",
    "    ax.set_xscale('log')\n",
    "    ax.set_xlabel('Transcripts per barcode')\n",
    "    ax.set_ylabel('Number of barcodes')\n",
    "\n",
    "    # applying filter\n",
    "    Efilt = E[:,tmpfilt]\n",
    "    print('Post-filter: %i barcodes' %Efilt.shape[1])\n",
    "    total_counts_filt = np.sum(Efilt, axis=0).A[0,:]\n",
    "    \n",
    "    # plotting post filter\n",
    "    fig = plt.figure()\n",
    "    ax = fig.add_subplot(111)\n",
    "    ax.hist(total_counts_filt, bins=np.logspace(0, 6, 50))\n",
    "    ax.set_xscale('log')\n",
    "    ax.set_xlabel('Transcripts per barcode')\n",
    "    ax.set_ylabel('Number of barcodes')\n",
    "\n",
    "    return [Efilt,tmpfilt]\n"
   ]
  },
  {
   "cell_type": "code",
   "execution_count": 145,
   "metadata": {},
   "outputs": [
    {
     "name": "stdout",
     "output_type": "stream",
     "text": [
      "GeneCount min:2 max:20000\n",
      "Pre-filter: 25260 barcodes\n",
      "Post-filter: 17477 barcodes\n"
     ]
    },
    {
     "data": {
      "text/plain": [
       "<1640x17477 sparse matrix of type '<class 'numpy.int64'>'\n",
       "\twith 3693898 stored elements in Compressed Sparse Column format>"
      ]
     },
     "execution_count": 145,
     "metadata": {},
     "output_type": "execute_result"
    },
    {
     "data": {
      "image/png": "[encoded data removed]",
      "text/plain": [
       "<matplotlib.figure.Figure at 0x249c336f8d0>"
      ]
     },
     "metadata": {},
     "output_type": "display_data"
    },
    {
     "data": {
      "image/png": "[encoded data removed]",
      "text/plain": [
       "<matplotlib.figure.Figure at 0x249c342e588>"
      ]
     },
     "metadata": {},
     "output_type": "display_data"
    }
   ],
   "source": [
    "GeneCount(E,2,20000)[0]"
   ]
  },
  {
   "cell_type": "code",
   "execution_count": 6,
   "metadata": {},
   "outputs": [],
   "source": [
    "### MITO FRACTION ###\n",
    "\n",
    "mt_ix = [i for i,g in enumerate(gene_list) if g.startswith('mt-')]\n",
    "list1 = [gene_list[i] for i in mt_ix]\n",
    "#print(mt_ix)\n"
   ]
  },
  {
   "cell_type": "code",
   "execution_count": 158,
   "metadata": {},
   "outputs": [],
   "source": [
    "def mito_frac(E,max_mt):\n",
    "    #max_mt = 0.05\n",
    "    print('Mito fraction filter: '+str(max_mt))\n",
    "    \n",
    "    #plotting the initial mito fraction\n",
    "    fig = plt.figure(figsize=(10, 5))\n",
    "    ax = fig.add_subplot(111, xscale='linear', yscale='linear',\n",
    "        xlabel='MT frac.', ylabel='no. cells')\n",
    "    mito_frac = np.sum(E[:,mt_ix], axis=1).A[:,0] / np.sum(E, axis=1,dtype=float).A[:,0]\n",
    "    ax.hist(mito_frac, cumulative=False, \n",
    "            bins=np.linspace(0, 0.1, 100))\n",
    "\n",
    "    #setting up filter\n",
    "    tmpfilt = np.nonzero(mito_frac <= max_mt)[0]\n",
    "    ax.plot([max_mt,max_mt],ax.get_ylim());\n",
    "    print('Pre-filter: %i barcodes' %E.shape[0])\n",
    "    Efilt = E[tmpfilt,:]\n",
    "    print('Post-filter: %i barcodes' %Efilt.shape[0])\n",
    "    \n",
    "    #plotting post filter mito fraction\n",
    "    total_counts_filt = mito_frac[tmpfilt]\n",
    "    fig = plt.figure(figsize=(10, 5))\n",
    "    ax = fig.add_subplot(111)\n",
    "    ax.hist(total_counts_filt, bins=np.linspace(0, 0.1, 100))\n",
    "\n",
    "    return [Efilt,tmpfilt]\n",
    "    "
   ]
  },
  {
   "cell_type": "code",
   "execution_count": 159,
   "metadata": {},
   "outputs": [
    {
     "name": "stdout",
     "output_type": "stream",
     "text": [
      "Mito fraction filter: 0.04\n",
      "Pre-filter: 1640 barcodes\n",
      "Post-filter: 1636 barcodes\n"
     ]
    },
    {
     "data": {
      "text/plain": [
       "<1636x25260 sparse matrix of type '<class 'numpy.int64'>'\n",
       "\twith 3918556 stored elements in Compressed Sparse Column format>"
      ]
     },
     "execution_count": 159,
     "metadata": {},
     "output_type": "execute_result"
    },
    {
     "data": {
      "image/png": "[encoded data removed]",
      "text/plain": [
       "<matplotlib.figure.Figure at 0x249cdb44c88>"
      ]
     },
     "metadata": {},
     "output_type": "display_data"
    },
    {
     "data": {
      "image/png": "[encoded data removed]",
      "text/plain": [
       "<matplotlib.figure.Figure at 0x249c3370f28>"
      ]
     },
     "metadata": {},
     "output_type": "display_data"
    }
   ],
   "source": [
    "mito_frac(E,0.04)[0]"
   ]
  },
  {
   "cell_type": "code",
   "execution_count": 9,
   "metadata": {},
   "outputs": [],
   "source": [
    "#mito_frac = np.sum(E[:,mt_ix], axis=1).A[:,0] / np.sum(E, axis=1,dtype=float).A[:,0]"
   ]
  },
  {
   "cell_type": "code",
   "execution_count": 10,
   "metadata": {},
   "outputs": [],
   "source": [
    "# min_tot = 5000\n",
    "# max_tot = 12000\n",
    "# total_counts = np.sum(E, axis=1).A[:,0]\n",
    "\n",
    "# fig = plt.figure()\n",
    "# ax = fig.add_subplot(111)\n",
    "# ax.hist(total_counts, bins=np.logspace(0, 6, 50))\n",
    "# ax.set_xscale('log')\n",
    "# ax.set_xlabel('Transcripts per barcode')\n",
    "# ax.set_ylabel('Number of barcodes')\n",
    "\n",
    "    \n",
    "# ax.plot([min_tot,min_tot],ax.get_ylim());\n",
    "#     #title(s)\n",
    "\n",
    "# ix = total_counts >= min_tot\n",
    "# #print s, np.sum(ix), '/', D[s]['E'].shape[0], np.median(D[s]['total_counts'][ix]), np.mean(D[s]['total_counts'][ix])"
   ]
  },
  {
   "cell_type": "code",
   "execution_count": 11,
   "metadata": {},
   "outputs": [],
   "source": [
    "\n",
    "# print('Pre-filter: %i barcodes' %E.shape[0])\n",
    "# #D[s]['cell_index'] = np.arange(D[s]['E'].shape[0])\n",
    "# tmpfilt = np.nonzero(total_counts >= min_tot)[0]\n",
    "\n",
    "# #D[s] = filter_dict(D[s], tmpfilt)\n",
    "# print('Post-filter: %i barcodes' %E.shape[0])\n",
    "# #print(total_counts)\n",
    "# #print(tmpfilt)\n",
    "# #print(type(E))\n",
    "# Efilt = E[tmpfilt,:]\n",
    "# print(Efilt.shape)\n",
    "# print(type(tmpfilt))\n",
    "# total_counts2 = np.sum(Efilt, axis=1).A[:,0]\n",
    "# #tmpfilt2 = np.nonzero(total_counts2 <= max_tot)[0]\n",
    "# #Efilt2 = Efilt[tmpfilt2,:]\n",
    "# tmpfilt3 = np.nonzero((total_counts <= max_tot)&(total_counts >= min_tot))[0]\n",
    "# #tmpfilt5 = np.nonzero(total_counts >= min_tot)[0]\n",
    "# #tmpfilt4 = tmpfilt3.intersect(tmpfilt)\n",
    "# Efilt4 = E[tmpfilt3,:]\n",
    "# print(E[tmpfilt3,:].shape)\n",
    "\n",
    "# #del tmpfilt\n",
    "# #print(Efilt2.shape)"
   ]
  },
  {
   "cell_type": "code",
   "execution_count": 12,
   "metadata": {},
   "outputs": [],
   "source": [
    "# fig = plt.figure()\n",
    "# ax = fig.add_subplot(111)\n",
    "# total_counts_filt = np.sum(Efilt4, axis=1).A[:,0]\n",
    "# #print(total_counts_filt)\n",
    "# #print(tmpfilt)\n",
    "# ax.hist(total_counts_filt, bins=np.logspace(0, 6, 50))\n",
    "# ax.set_xscale('log')\n",
    "# ax.set_xlabel('Transcripts per barcode')\n",
    "# ax.set_ylabel('Number of barcodes')\n",
    "\n",
    "    \n",
    "# ax.plot([min_tot,min_tot],ax.get_ylim());"
   ]
  },
  {
   "cell_type": "code",
   "execution_count": 26,
   "metadata": {},
   "outputs": [
    {
     "data": {
      "text/plain": [
       "<1640x25260 sparse matrix of type '<class 'numpy.int64'>'\n",
       "\twith 3922937 stored elements in Compressed Sparse Column format>"
      ]
     },
     "execution_count": 26,
     "metadata": {},
     "output_type": "execute_result"
    }
   ],
   "source": [
    "E"
   ]
  },
  {
   "cell_type": "code",
   "execution_count": 101,
   "metadata": {},
   "outputs": [
    {
     "data": {
      "text/plain": [
       "<matplotlib.collections.PathCollection at 0x249c1114978>"
      ]
     },
     "execution_count": 101,
     "metadata": {},
     "output_type": "execute_result"
    },
    {
     "data": {
      "image/png": "[encoded data removed]",
      "text/plain": [
       "<matplotlib.figure.Figure at 0x249c108a438>"
      ]
     },
     "metadata": {},
     "output_type": "display_data"
    }
   ],
   "source": [
    "m = np.mean(E,axis=1)\n",
    "#v = np.var(E,axis=0)\n",
    "E2 = E.copy()\n",
    "E2.data **= 2\n",
    "m2 = np.mean(E2,axis=1)\n",
    "#print(type(m2[0]))\n",
    "#m2 = m2.toarray()\n",
    "m3 = np.square(m)\n",
    "m4 = m2-m3\n",
    "m4 = m4.tolist()\n",
    "m=m.tolist()\n",
    "plt.scatter(m4, m, alpha=0.8,marker = '.', cmap='viridis')\n"
   ]
  },
  {
   "cell_type": "code",
   "execution_count": 153,
   "metadata": {},
   "outputs": [],
   "source": [
    "### THRESHOLDING ####\n",
    "def thresholdLog(E,min_val,max_val):\n",
    "    print('CellCount min:'+str(min_val)+' max:'+str(max_val))\n",
    "    # plotting total counts pre-thresholding\n",
    "    total_counts = np.sum(E, axis=1).A[:,0]\n",
    "    tmpfilt = np.nonzero((total_counts <= max_val)&(total_counts >= min_val))[0]\n",
    "    print('Pre-filter: %i barcodes' %E.shape[0])\n",
    "    fig = plt.figure()\n",
    "    ax = fig.add_subplot(111)\n",
    "    print(total_counts)\n",
    "    ax.hist(np.log(total_counts+1), bins=np.linspace(5, 14, 100))\n",
    "    #ax.set_xscale('log')\n",
    "    #ax.set_xlabel('Transcripts per barcode')\n",
    "    #ax.set_ylabel('Number of barcodes')\n",
    "\n",
    "    # applying filter\n",
    "    Efilt = E[tmpfilt,:]\n",
    "    print('Post-filter: %i barcodes' %Efilt.shape[0])\n",
    "    total_counts_filt = np.sum(Efilt, axis=1).A[:,0]\n",
    "    \n",
    "    # plotting post filter\n",
    "    fig = plt.figure()\n",
    "    ax = fig.add_subplot(111)\n",
    "    ax.hist(np.log(total_counts_filt), bins=np.linspace(5, 14, 100))\n",
    "    #ax.set_xscale('log')\n",
    "    ax.set_xlabel('Transcripts per barcode')\n",
    "    ax.set_ylabel('Number of barcodes')\n",
    "\n",
    "    return [Efilt,tmpfilt]\n",
    "\n",
    "\n",
    "    \n",
    "    \n",
    "    "
   ]
  },
  {
   "cell_type": "code",
   "execution_count": 154,
   "metadata": {},
   "outputs": [
    {
     "name": "stdout",
     "output_type": "stream",
     "text": [
      "CellCount min:100 max:20000\n",
      "Pre-filter: 1640 barcodes\n",
      "[19010 10104 13324 ...  4910 11706 10775]\n",
      "Post-filter: 1540 barcodes\n"
     ]
    },
    {
     "data": {
      "text/plain": [
       "[<1540x25260 sparse matrix of type '<class 'numpy.int64'>'\n",
       " \twith 3521249 stored elements in Compressed Sparse Column format>,\n",
       " array([   0,    1,    2, ..., 1637, 1638, 1639], dtype=int64)]"
      ]
     },
     "execution_count": 154,
     "metadata": {},
     "output_type": "execute_result"
    },
    {
     "data": {
      "image/png": "[encoded data removed]",
      "text/plain": [
       "<matplotlib.figure.Figure at 0x249c3249fd0>"
      ]
     },
     "metadata": {},
     "output_type": "display_data"
    },
    {
     "data": {
      "image/png": "[encoded data removed]",
      "text/plain": [
       "<matplotlib.figure.Figure at 0x249c0fb66a0>"
      ]
     },
     "metadata": {},
     "output_type": "display_data"
    }
   ],
   "source": [
    "thresholdLog(E,100,20000)"
   ]
  },
  {
   "cell_type": "code",
   "execution_count": 155,
   "metadata": {},
   "outputs": [
    {
     "name": "stdout",
     "output_type": "stream",
     "text": [
      "CellCount min:100 max:20000\n",
      "Pre-filter: 1640 barcodes\n",
      "Post-filter: 1540 barcodes\n"
     ]
    },
    {
     "data": {
      "text/plain": [
       "[<1540x25260 sparse matrix of type '<class 'numpy.int64'>'\n",
       " \twith 3521249 stored elements in Compressed Sparse Column format>,\n",
       " array([   0,    1,    2, ..., 1637, 1638, 1639], dtype=int64)]"
      ]
     },
     "execution_count": 155,
     "metadata": {},
     "output_type": "execute_result"
    },
    {
     "data": {
      "image/png": "[encoded data removed]",
      "text/plain": [
       "<matplotlib.figure.Figure at 0x249c342ec88>"
      ]
     },
     "metadata": {},
     "output_type": "display_data"
    },
    {
     "data": {
      "image/png": "[encoded data removed]",
      "text/plain": [
       "<matplotlib.figure.Figure at 0x249c143b358>"
      ]
     },
     "metadata": {},
     "output_type": "display_data"
    }
   ],
   "source": [
    "threshold(E,100,20000)"
   ]
  },
  {
   "cell_type": "code",
   "execution_count": null,
   "metadata": {},
   "outputs": [],
   "source": []
  }
 ],
 "metadata": {
  "kernelspec": {
   "display_name": "Python 3",
   "language": "python",
   "name": "python3"
  },
  "language_info": {
   "codemirror_mode": {
    "name": "ipython",
    "version": 3
   },
   "file_extension": ".py",
   "mimetype": "text/x-python",
   "name": "python",
   "nbconvert_exporter": "python",
   "pygments_lexer": "ipython3",
   "version": "3.6.4"
  }
 },
 "nbformat": 4,
 "nbformat_minor": 2
}
